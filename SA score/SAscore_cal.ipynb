{
 "cells": [
  {
   "cell_type": "code",
   "execution_count": 1,
   "metadata": {},
   "outputs": [],
   "source": [
    "import math\n",
    "import pickle\n",
    "from rdkit import Chem\n",
    "from rdkit.Chem import rdMolDescriptors\n",
    "import os\n",
    "import os.path as op\n",
    " \n",
    "#get_sa_score start\n",
    "_fscores = None\n",
    " \n",
    " \n",
    "def readFragmentScores(name='fpscores'):\n",
    "    import gzip\n",
    "    global _fscores\n",
    "    # generate the full path filename:\n",
    "    if name == \"fpscores\":\n",
    "        name = op.join(os.getcwd(), name)\n",
    "        # name = op.join(op.dirname(__file__), name)\n",
    "    data = pickle.load(gzip.open('%s.pkl.gz' % name))\n",
    "    outDict = {}\n",
    "    for i in data:\n",
    "        for j in range(1, len(i)):\n",
    "            outDict[i[j]] = float(i[0])\n",
    "    _fscores = outDict\n",
    " \n",
    " \n",
    "def numBridgeheadsAndSpiro(mol, ri=None):\n",
    "    nSpiro = rdMolDescriptors.CalcNumSpiroAtoms(mol)\n",
    "    nBridgehead = rdMolDescriptors.CalcNumBridgeheadAtoms(mol)\n",
    "    return nBridgehead, nSpiro\n",
    " \n",
    " \n",
    "def calculateScore(m):\n",
    "    if _fscores is None:\n",
    "        readFragmentScores()\n",
    " \n",
    "    # fragment score\n",
    "    fp = rdMolDescriptors.GetMorganFingerprint(m,\n",
    "                                            2)  # <- 2 is the *radius* of the circular fingerprint\n",
    "    fps = fp.GetNonzeroElements()\n",
    "    score1 = 0.\n",
    "    nf = 0\n",
    "    for bitId, v in fps.items():\n",
    "        nf += v\n",
    "        sfp = bitId\n",
    "        score1 += _fscores.get(sfp, -4) * v\n",
    "    score1 /= nf\n",
    " \n",
    "    # features score\n",
    "    nAtoms = m.GetNumAtoms()\n",
    "    nChiralCenters = len(Chem.FindMolChiralCenters(m, includeUnassigned=True))\n",
    "    ri = m.GetRingInfo()\n",
    "    nBridgeheads, nSpiro = numBridgeheadsAndSpiro(m, ri)\n",
    "    nMacrocycles = 0\n",
    "    for x in ri.AtomRings():\n",
    "        if len(x) > 8:\n",
    "            nMacrocycles += 1\n",
    " \n",
    "    sizePenalty = nAtoms**1.005 - nAtoms\n",
    "    stereoPenalty = math.log10(nChiralCenters + 1)\n",
    "    spiroPenalty = math.log10(nSpiro + 1)\n",
    "    bridgePenalty = math.log10(nBridgeheads + 1)\n",
    "    macrocyclePenalty = 0.\n",
    "    # ---------------------------------------\n",
    "    # This differs from the paper, which defines:\n",
    "    # macrocyclePenalty = math.log10(nMacrocycles+1)\n",
    "    # This form generates better results when 2 or more macrocycles are present\n",
    "    if nMacrocycles > 0:\n",
    "        macrocyclePenalty = math.log10(2)\n",
    " \n",
    "    score2 = 0. - sizePenalty - stereoPenalty - spiroPenalty - bridgePenalty - macrocyclePenalty\n",
    " \n",
    "    # correction for the fingerprint density\n",
    "    # not in the original publication, added in version 1.1\n",
    "    # to make highly symmetrical molecules easier to synthetise\n",
    "    score3 = 0.\n",
    "    if nAtoms > len(fps):\n",
    "        score3 = math.log(float(nAtoms) / len(fps)) * .5\n",
    " \n",
    "    sascore = score1 + score2 + score3\n",
    " \n",
    "    # need to transform \"raw\" value into scale between 1 and 10\n",
    "    min = -4.0\n",
    "    max = 2.5\n",
    "    sascore = 11. - (sascore - min + 1) / (max - min) * 9.\n",
    "    # smooth the 10-end\n",
    "    if sascore > 8.:\n",
    "        sascore = 8. + math.log(sascore + 1. - 9.)\n",
    "    if sascore > 10.:\n",
    "        sascore = 10.0\n",
    "    elif sascore < 1.:\n",
    "        sascore = 1.0\n",
    " \n",
    "    return sascore\n",
    "def my_score(mols:list):\n",
    "    readFragmentScores(\"fpscores\")\n",
    "    print('smiles\\tsa_score')\n",
    "    for m in mols:\n",
    "        s = calculateScore(m)\n",
    "        smiles = Chem.MolToSmiles(m)\n",
    "        print(smiles + \"\\t\" + \"\\t%3f\" % s)\n",
    "    \n"
   ]
  },
  {
   "cell_type": "code",
   "execution_count": 3,
   "metadata": {},
   "outputs": [
    {
     "name": "stdout",
     "output_type": "stream",
     "text": [
      "smiles\tsa_score\n",
      "CN(C)CCC=C1c2ccccc2CCc2ccccc21\t\t2.174229\n",
      "C=CCN1C[C@H](C(=O)N(CCCN(C)C)C(=O)NCC)C[C@@H]2c3cccc4[nH]cc(c34)C[C@H]21\t\t4.016443\n",
      "CCOc1nc(NC(=O)Cc2cc(OC)c(Br)cc2OC)cc(N)c1C#N\t\t2.591358\n",
      "O=C(O)c1ccccc1O\t\t1.425110\n"
     ]
    }
   ],
   "source": [
    "a = Chem.MolFromSmiles('CN(C)CCC=C1C2=CC=CC=C2CCC2=CC=CC=C12')\n",
    "b = Chem.MolFromSmiles('[H][C@@]12CC3=CNC4=CC=CC(=C34)[C@@]1([H])C[C@H](CN2CC=C)C(=O)N(CCCN(C)C)C(=O)NCC')\n",
    "c = Chem.MolFromSmiles('CCOC1=NC(NC(=O)CC2=CC(OC)=C(Br)C=C2OC)=CC(N)=C1C#N')\n",
    "d = Chem.MolFromSmiles('OC(=O)C1=CC=CC=C1O')\n",
    "x = [a,b,c,d]\n",
    "sa_score=my_score(x)"
   ]
  },
  {
   "cell_type": "code",
   "execution_count": 5,
   "metadata": {},
   "outputs": [],
   "source": [
    "def sa_score(smi):\n",
    "    mol = Chem.MolFromSmiles(smi)\n",
    "    readFragmentScores(\"fpscores\")\n",
    "    s = calculateScore(mol)\n",
    "    return s"
   ]
  },
  {
   "cell_type": "code",
   "execution_count": 7,
   "metadata": {},
   "outputs": [
    {
     "data": {
      "text/plain": [
       "3.7833172593741526"
      ]
     },
     "execution_count": 7,
     "metadata": {},
     "output_type": "execute_result"
    }
   ],
   "source": [
    "sa_score('*Nc1ccc(cc1)C(=O)*')"
   ]
  },
  {
   "cell_type": "code",
   "execution_count": 8,
   "metadata": {},
   "outputs": [
    {
     "data": {
      "text/plain": [
       "3.969216875236876"
      ]
     },
     "execution_count": 8,
     "metadata": {},
     "output_type": "execute_result"
    }
   ],
   "source": [
    "sa_score('*c1ccc2c(c1)C(=O)N(C2=O)c1ccc(cc1)Oc1ccc(cn1)C(=O)Nc1ccc(cc1)NC(=O)c1ccc(nc1)Oc1ccc(cc1)N1C(=O)c2c(C1=O)cc(cc2)C(C(F)(F)F)(C(F)(F)F)*')"
   ]
  },
  {
   "cell_type": "code",
   "execution_count": 10,
   "metadata": {},
   "outputs": [
    {
     "data": {
      "text/plain": [
       "4.257042926038376"
      ]
     },
     "execution_count": 10,
     "metadata": {},
     "output_type": "execute_result"
    }
   ],
   "source": [
    "sa_score('*c1ccc2c(c1)C(=O)N(C2=O)c1ccc(cc1)C(=O)Nc1ccc(cc1)Oc1ccc(cc1)C(C(F)(F)F)(C(F)(F)F)c1ccc(cc1)Oc1ccc(cc1)NC(=O)c1ccc(cc1)N1C(=O)c2c(C1=O)cc(cc2)C(C(F)(F)F)(C(F)(F)F)*')"
   ]
  }
 ],
 "metadata": {
  "kernelspec": {
   "display_name": "rlpolyg",
   "language": "python",
   "name": "python3"
  },
  "language_info": {
   "codemirror_mode": {
    "name": "ipython",
    "version": 3
   },
   "file_extension": ".py",
   "mimetype": "text/x-python",
   "name": "python",
   "nbconvert_exporter": "python",
   "pygments_lexer": "ipython3",
   "version": "3.9.19"
  }
 },
 "nbformat": 4,
 "nbformat_minor": 2
}
